{
 "metadata": {
  "name": "",
  "signature": "sha256:3ad8c3490bcc61b96daa944e82610f0bbad5afda136f2deb58e2e29fe4b6afad"
 },
 "nbformat": 3,
 "nbformat_minor": 0,
 "worksheets": [
  {
   "cells": [
    {
     "cell_type": "markdown",
     "metadata": {},
     "source": [
      "#Nengo Example: Addition"
     ]
    },
    {
     "cell_type": "markdown",
     "metadata": {},
     "source": [
      "In this example, we will construct a network that adds two inputs. The network utilizes two communication channels into the same neural population. Addition is thus somewhat \u2018free\u2019, since the incoming currents from different synaptic connections interact linearly (though two inputs don\u2019t have to combine in this way: see the combining demo)."
     ]
    },
    {
     "cell_type": "markdown",
     "metadata": {},
     "source": [
      "##Step 1: Create the Model"
     ]
    },
    {
     "cell_type": "markdown",
     "metadata": {},
     "source": [
      "The model has three ensembles, which we will call A, B, and C."
     ]
    },
    {
     "cell_type": "code",
     "collapsed": false,
     "input": [
      "# Create the model object\n",
      "import nengo\n",
      "model = nengo.Network(label='Addition')\n",
      "with model:\n",
      "    # Create 3 ensembles each containing 100 leaky integrate-and-fire neurons\n",
      "    A = nengo.Ensemble(100, dimensions=1)\n",
      "    B = nengo.Ensemble(100, dimensions=1)\n",
      "    C = nengo.Ensemble(100, dimensions=1)"
     ],
     "language": "python",
     "metadata": {},
     "outputs": [],
     "prompt_number": 1
    },
    {
     "cell_type": "markdown",
     "metadata": {},
     "source": [
      "##Step 2: Provide Input to the Model"
     ]
    },
    {
     "cell_type": "markdown",
     "metadata": {},
     "source": [
      "We will use two constant scalar values for the two input signals that drive activity in ensembles A and B. "
     ]
    },
    {
     "cell_type": "code",
     "collapsed": false,
     "input": [
      "with model:\n",
      "    # Create input nodes representing constant values\n",
      "    input_a = nengo.Node(output=0.5)\n",
      "    input_b = nengo.Node(output=0.3)\n",
      "    \n",
      "    # Connect the input nodes to the appropriate ensembles\n",
      "    nengo.Connection(input_a, A)\n",
      "    nengo.Connection(input_b, B)\n",
      "    \n",
      "    # Connect input ensembles A and B to output ensemble C\n",
      "    nengo.Connection(A, C)\n",
      "    nengo.Connection(B, C)"
     ],
     "language": "python",
     "metadata": {},
     "outputs": [],
     "prompt_number": 2
    },
    {
     "cell_type": "markdown",
     "metadata": {},
     "source": [
      "##Step 3: Probe Output"
     ]
    },
    {
     "cell_type": "markdown",
     "metadata": {},
     "source": [
      "Let's collect output data from each ensemble and output. "
     ]
    },
    {
     "cell_type": "code",
     "collapsed": false,
     "input": [
      "with model:\n",
      "    input_a_probe = nengo.Probe(input_a)\n",
      "    input_b_probe = nengo.Probe(input_b)\n",
      "    A_probe = nengo.Probe(A, synapse=0.01)\n",
      "    B_probe = nengo.Probe(B, synapse=0.01)\n",
      "    C_probe = nengo.Probe(C, synapse=0.01)"
     ],
     "language": "python",
     "metadata": {},
     "outputs": [],
     "prompt_number": 3
    },
    {
     "cell_type": "markdown",
     "metadata": {},
     "source": [
      "##Step 4: Run the Model"
     ]
    },
    {
     "cell_type": "markdown",
     "metadata": {},
     "source": [
      "In order to run the model, we have to create a simulator. Then, we can run that simulator over and over again without affecting the original model."
     ]
    },
    {
     "cell_type": "code",
     "collapsed": false,
     "input": [
      "# Create the simulator\n",
      "#sim = nengo.Simulator(model) # uncomment and comment the next two lines if you want to run directly on nengo\n",
      "import nengo_spinnaker\n",
      "sim = nengo_spinnaker.Simulator(model)\n",
      "# Run it for 5 seconds\n",
      "sim.run(5)"
     ],
     "language": "python",
     "metadata": {},
     "outputs": [
      {
       "output_type": "stream",
       "stream": "stderr",
       "text": [
        "INFO:pacman103.conf:Read config files: /home/robot/.pacman.cfg, /home/robot/spinnaker/alpha_package_103/pacman103/pacman.cfg\n"
       ]
      },
      {
       "output_type": "stream",
       "stream": "stderr",
       "text": [
        "WARNING:pacman103.core.dao:Structure of target SpiNNaker machine not known.\n",
        "Interrogating machine for details of structure.\n"
       ]
      },
      {
       "output_type": "stream",
       "stream": "stderr",
       "text": [
        "WARNING:pacman103.core.dao:Structure of target SpiNNaker machine not known.\n",
        "Interrogating machine for details of structure.\n"
       ]
      },
      {
       "output_type": "stream",
       "stream": "stdout",
       "text": [
        "SC&MP/SpiNNaker\n",
        "Dynamic discovery complete.  64 available app cores and 8 active links!\n",
        "SC&MP/SpiNNaker"
       ]
      },
      {
       "output_type": "stream",
       "stream": "stderr",
       "text": [
        "INFO:pacman103.core.mapper.partitioner_algorithms.partition_and_place_partitioner:* Running Partitioner and Placer as one *\n"
       ]
      },
      {
       "output_type": "stream",
       "stream": "stderr",
       "text": [
        "Progress\n",
        "|0                           50%                         100%|\n",
        " ============================================================\n",
        "INFO:pacman103.core.mapper.key_allocator_algorithms.basic_key_allocator:* Running key allocator *\n"
       ]
      },
      {
       "output_type": "stream",
       "stream": "stderr",
       "text": [
        "INFO:pacman103.core.control:* Running pre-routing sub-edge pruning *\n"
       ]
      },
      {
       "output_type": "stream",
       "stream": "stderr",
       "text": [
        "Progress\n",
        "|0                           50%                         100%|\n",
        " ============================================================\n",
        "INFO:pacman103.core.mapper.router.router:* Running Router *\n"
       ]
      },
      {
       "output_type": "stream",
       "stream": "stderr",
       "text": [
        "Progress\n",
        "|0                           50%                         100%|\n",
        " ============================================================\n",
        "Progress\n",
        "|0                           50%                         100%|\n",
        " ==============================="
       ]
      },
      {
       "output_type": "stream",
       "stream": "stdout",
       "text": [
        "\n",
        "Dynamic discovery complete.  64 available app cores and 8 active links!\n",
        "SC&MP/SpiNNaker"
       ]
      },
      {
       "output_type": "stream",
       "stream": "stderr",
       "text": [
        "=============================\n",
        "INFO:pacman103.core.spinnman.interfaces.transceiver:Setting up ip tag 1 to localhost:17895\n"
       ]
      },
      {
       "output_type": "stream",
       "stream": "stderr",
       "text": [
        "INFO:pacman103.core.spinnman.interfaces.transceiver:Setting up ip tag 0 to localhost:17892\n"
       ]
      },
      {
       "output_type": "stream",
       "stream": "stderr",
       "text": [
        "INFO:pacman103.core.spinnman.interfaces.transceiver:Waiting for application to finish loading\n"
       ]
      },
      {
       "output_type": "stream",
       "stream": "stderr",
       "text": [
        "INFO:pacman103.core.spinnman.interfaces.transceiver:Starting application\n"
       ]
      },
      {
       "output_type": "stream",
       "stream": "stderr",
       "text": [
        "INFO:pacman103.core.spinnman.interfaces.transceiver:Checking that the application has started\n"
       ]
      },
      {
       "output_type": "stream",
       "stream": "stderr",
       "text": [
        "INFO:pacman103.core.spinnman.interfaces.transceiver:Application is set to run forever - PACMAN is exiting\n"
       ]
      },
      {
       "output_type": "stream",
       "stream": "stdout",
       "text": [
        "\n",
        "Loading: /home/robot/spinnaker/alpha_package_103/output_binaries/app_30_2014-06-12-18-17-7/192.168.240.253_router_0_0.dat to 0x77780000\n",
        "Loading: /home/robot/spinnaker/alpha_package_103/output_binaries/app_30_2014-06-12-18-17-7/192.168.240.253_appData_0_0_1.dat to 0x70000000\n",
        "Loading: /home/robot/spinnaker/alpha_package_103/output_binaries/app_30_2014-06-12-18-17-7/192.168.240.253_appData_0_0_2.dat to 0x700006c0L\n",
        "Loading: /home/robot/spinnaker/alpha_package_103/output_binaries/app_30_2014-06-12-18-17-7/192.168.240.253_appData_0_0_3.dat to 0x70000d80L\n",
        "Loading: /home/robot/spinnaker/alpha_package_103/output_binaries/app_30_2014-06-12-18-17-7/192.168.240.253_appData_0_0_4.dat to 0x700012d8L\n",
        "Loading: /home/robot/spinnaker/alpha_package_103/output_binaries/app_30_2014-06-12-18-17-7/192.168.240.253_appData_0_0_5.dat to 0x70006174L\n",
        "Loading: /home/robot/spinnaker/alpha_package_103/output_binaries/app_30_2014-06-12-18-17-7/192.168.240.253_appData_0_0_6.dat to 0x7000b010L\n",
        "Loading: /home/robot/spinnaker/alpha_package_103/output_binaries/app_30_2014-06-12-18-17-7/192.168.240.253_appData_0_0_7.dat to 0x7000b06cL\n",
        "Loading: /home/robot/spinnaker/alpha_package_103/output_binaries/app_30_2014-06-12-18-17-7/192.168.240.253_appData_0_0_8.dat to 0x7000b0c8L\n",
        "Loading: /home/robot/spinnaker/alpha_package_103/output_binaries/app_30_2014-06-12-18-17-7/192.168.240.253_appData_0_0_9.dat to 0x7000ff64L\n",
        "Loading: /home/robot/spinnaker/alpha_package_103/output_binaries/app_30_2014-06-12-18-17-7/192.168.240.253_appData_0_0_10.dat to 0x70014e00L\n"
       ]
      }
     ],
     "prompt_number": 4
    },
    {
     "cell_type": "markdown",
     "metadata": {},
     "source": [
      "The data produced by running the model can now be plotted."
     ]
    },
    {
     "cell_type": "code",
     "collapsed": false,
     "input": [
      "import matplotlib.pyplot as plt\n",
      "\n",
      "# Plot the input signals and decoded ensemble values\n",
      "t = sim.trange()\n",
      "plt.plot(sim.trange(), sim.data[A_probe], label=\"Decoded Ensemble A\")\n",
      "plt.plot(sim.trange(), sim.data[B_probe], label=\"Decoded Ensemble B\")\n",
      "plt.plot(sim.trange(), sim.data[C_probe], label=\"Decoded Ensemble C\")\n",
      "plt.plot(sim.trange(), sim.data[input_a_probe], label=\"Input A\", color='k', linewidth=2.0)\n",
      "plt.plot(sim.trange(), sim.data[input_b_probe], label=\"Input B\", color='0.75', linewidth=2.0)\n",
      "plt.legend()\n",
      "plt.ylim(0, 1)"
     ],
     "language": "python",
     "metadata": {},
     "outputs": [
      {
       "metadata": {},
       "output_type": "pyout",
       "prompt_number": 5,
       "text": [
        "(0, 1)"
       ]
      },
      {
       "metadata": {},
       "output_type": "display_data",
       "png": "[encoded data removed]",
       "text": [
        "<matplotlib.figure.Figure at 0x495d390>"
       ]
      }
     ],
     "prompt_number": 5
    },
    {
     "cell_type": "markdown",
     "metadata": {},
     "source": [
      "You can check that the decoded value of the activity in ensemble C provides a good estimate of the sum of inputs A and B."
     ]
    },
    {
     "cell_type": "code",
     "collapsed": false,
     "input": [],
     "language": "python",
     "metadata": {},
     "outputs": [],
     "prompt_number": 5
    }
   ],
   "metadata": {}
  }
 ]
}